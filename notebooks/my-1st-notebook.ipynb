{
 "cells": [
  {
   "cell_type": "code",
   "execution_count": 1,
   "id": "f02e4bb5",
   "metadata": {},
   "outputs": [
    {
     "data": {
      "text/plain": [
       "array([[5, 6, 2],\n",
       "       [2, 8, 5],\n",
       "       [5, 8, 8],\n",
       "       [6, 2, 9],\n",
       "       [6, 6, 4],\n",
       "       [7, 4, 4],\n",
       "       [8, 6, 1],\n",
       "       [6, 4, 3],\n",
       "       [4, 8, 6],\n",
       "       [4, 8, 1]])"
      ]
     },
     "metadata": {},
     "output_type": "display_data"
    }
   ],
   "source": [
    "import numpy as np\n",
    "\n",
    "array = np.random.randint(1,10, size=(10,3))\n",
    "\n",
    "display(array)\n"
   ]
  }
 ],
 "metadata": {
  "kernelspec": {
   "display_name": "Python 3 (ipykernel)",
   "language": "python",
   "name": "python3"
  },
  "language_info": {
   "codemirror_mode": {
    "name": "ipython",
    "version": 3
   },
   "file_extension": ".py",
   "mimetype": "text/x-python",
   "name": "python",
   "nbconvert_exporter": "python",
   "pygments_lexer": "ipython3",
   "version": "3.9.7"
  }
 },
 "nbformat": 4,
 "nbformat_minor": 5
}
