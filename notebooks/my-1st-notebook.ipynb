{
 "cells": [
  {
   "cell_type": "code",
   "execution_count": 3,
   "id": "f02e4bb5",
   "metadata": {},
   "outputs": [
    {
     "data": {
      "text/plain": [
       "array([[1, 6, 7],\n",
       "       [3, 2, 3],\n",
       "       [6, 2, 4],\n",
       "       [9, 1, 7],\n",
       "       [4, 2, 1],\n",
       "       [1, 7, 3],\n",
       "       [3, 3, 2],\n",
       "       [6, 1, 5],\n",
       "       [4, 3, 4],\n",
       "       [9, 9, 6]])"
      ]
     },
     "metadata": {},
     "output_type": "display_data"
    },
    {
     "name": "stdout",
     "output_type": "stream",
     "text": [
      "[[1 6 7]\n",
      " [3 2 3]\n",
      " [6 2 4]\n",
      " [9 1 7]\n",
      " [4 2 1]\n",
      " [1 7 3]\n",
      " [3 3 2]\n",
      " [6 1 5]\n",
      " [4 3 4]\n",
      " [9 9 6]]\n"
     ]
    }
   ],
   "source": [
    "import numpy as np\n",
    "\n",
    "array = np.random.randint(1,10, size=(10,3))\n",
    "\n",
    "display(array)\n",
    "\n",
    "print(array)\n"
   ]
  },
  {
   "cell_type": "code",
   "execution_count": null,
   "id": "c7e7286c",
   "metadata": {},
   "outputs": [],
   "source": []
  }
 ],
 "metadata": {
  "kernelspec": {
   "display_name": "Python 3 (ipykernel)",
   "language": "python",
   "name": "python3"
  },
  "language_info": {
   "codemirror_mode": {
    "name": "ipython",
    "version": 3
   },
   "file_extension": ".py",
   "mimetype": "text/x-python",
   "name": "python",
   "nbconvert_exporter": "python",
   "pygments_lexer": "ipython3",
   "version": "3.9.7"
  }
 },
 "nbformat": 4,
 "nbformat_minor": 5
}
