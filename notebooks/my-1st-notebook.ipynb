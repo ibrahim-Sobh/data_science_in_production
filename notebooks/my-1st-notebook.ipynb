{
 "cells": [
  {
   "cell_type": "code",
   "execution_count": 2,
   "id": "3fe9e8be",
   "metadata": {},
   "outputs": [
    {
     "data": {
      "text/plain": [
       "array([[8, 8, 3],\n",
       "       [9, 7, 7],\n",
       "       [4, 4, 7],\n",
       "       [4, 2, 6],\n",
       "       [8, 6, 4],\n",
       "       [9, 6, 2],\n",
       "       [1, 7, 4],\n",
       "       [9, 3, 1],\n",
       "       [3, 4, 1],\n",
       "       [6, 4, 5]])"
      ]
     },
     "execution_count": 2,
     "metadata": {},
     "output_type": "execute_result"
    }
   ],
   "source": [
    "import numpy as np"
   ]
  },
  {
   "cell_type": "code",
   "execution_count": 6,
   "id": "6f81708e",
   "metadata": {},
   "outputs": [
    {
     "data": {
      "text/plain": [
       "array([[6, 9, 9],\n",
       "       [3, 6, 7],\n",
       "       [3, 8, 5],\n",
       "       [9, 8, 1],\n",
       "       [5, 2, 2],\n",
       "       [1, 4, 9],\n",
       "       [9, 2, 5],\n",
       "       [3, 5, 4],\n",
       "       [9, 2, 3],\n",
       "       [6, 8, 8]])"
      ]
     },
     "execution_count": 6,
     "metadata": {},
     "output_type": "execute_result"
    }
   ],
   "source": [
    "array = np.random.randint(1,10, size=(10,3))\n",
    "\n",
    "array"
   ]
  },
  {
   "cell_type": "code",
   "execution_count": null,
   "id": "206c70e7",
   "metadata": {},
   "outputs": [],
   "source": []
  }
 ],
 "metadata": {
  "kernelspec": {
   "display_name": "Python 3 (ipykernel)",
   "language": "python",
   "name": "python3"
  },
  "language_info": {
   "codemirror_mode": {
    "name": "ipython",
    "version": 3
   },
   "file_extension": ".py",
   "mimetype": "text/x-python",
   "name": "python",
   "nbconvert_exporter": "python",
   "pygments_lexer": "ipython3",
   "version": "3.9.7"
  }
 },
 "nbformat": 4,
 "nbformat_minor": 5
}
