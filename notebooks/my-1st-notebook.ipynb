{
 "cells": [
  {
   "cell_type": "code",
   "execution_count": 3,
   "id": "f02e4bb5",
   "metadata": {},
   "outputs": [
    {
     "name": "stdout",
     "output_type": "stream",
     "text": [
      "[[2 4 3]\n",
      " [4 8 4]\n",
      " [4 5 4]\n",
      " [3 8 9]\n",
      " [7 1 7]\n",
      " [9 8 9]\n",
      " [5 4 2]\n",
      " [4 4 8]\n",
      " [2 1 6]\n",
      " [3 3 4]]\n"
     ]
    }
   ],
   "source": [
    "import numpy as np\n",
    "\n",
    "array = np.random.randint(1,10, size=(10,3))\n",
    "\n",
    "print(array)\n"
   ]
  },
  {
   "cell_type": "raw",
   "id": "eaa3047d",
   "metadata": {},
   "source": [
    "[[1 8 7]\n",
    " [4 1 3]\n",
    " [4 5 2]\n",
    " [7 4 9]\n",
    " [6 8 6]\n",
    " [1 4 3]\n",
    " [6 3 2]\n",
    " [7 2 6]\n",
    " [1 1 7]\n",
    " [9 5 7]]"
   ]
  }
 ],
 "metadata": {
  "kernelspec": {
   "display_name": "Python 3 (ipykernel)",
   "language": "python",
   "name": "python3"
  },
  "language_info": {
   "codemirror_mode": {
    "name": "ipython",
    "version": 3
   },
   "file_extension": ".py",
   "mimetype": "text/x-python",
   "name": "python",
   "nbconvert_exporter": "python",
   "pygments_lexer": "ipython3",
   "version": "3.9.7"
  }
 },
 "nbformat": 4,
 "nbformat_minor": 5
}
