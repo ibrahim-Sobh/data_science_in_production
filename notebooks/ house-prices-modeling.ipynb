{
 "cells": [
  {
   "cell_type": "markdown",
   "id": "7176df6d",
   "metadata": {},
   "source": [
    "## 1 - Importing Libraries & Loading Data"
   ]
  },
  {
   "cell_type": "code",
   "execution_count": 1397,
   "id": "7a726241",
   "metadata": {},
   "outputs": [],
   "source": [
    "%matplotlib inline\n",
    "import os\n",
    "import pandas as pd\n",
    "import seaborn as sns\n",
    "import numpy as np\n",
    "import matplotlib.pyplot as plt\n",
    "from sklearn.preprocessing import label_binarize\n",
    "from sklearn.model_selection import train_test_split\n",
    "from sklearn.linear_model import LinearRegression\n",
    "from sklearn.ensemble import RandomForestRegressor\n",
    "import sklearn.metrics as metrics\n",
    "from sklearn import preprocessing\n",
    "\n",
    "train_data=pd.read_csv('../data/house-prices-advanced-regression-techniques/train.csv')\n",
    "test_data = pd.read_csv('../data/house-prices-advanced-regression-techniques/test.csv')"
   ]
  },
  {
   "cell_type": "markdown",
   "id": "ba156fcb",
   "metadata": {},
   "source": [
    "## 2.1 - Display Train Data"
   ]
  },
  {
   "cell_type": "code",
   "execution_count": 1398,
   "id": "0c112d2d",
   "metadata": {},
   "outputs": [
    {
     "data": {
      "text/html": [
       "<div>\n",
       "<style scoped>\n",
       "    .dataframe tbody tr th:only-of-type {\n",
       "        vertical-align: middle;\n",
       "    }\n",
       "\n",
       "    .dataframe tbody tr th {\n",
       "        vertical-align: top;\n",
       "    }\n",
       "\n",
       "    .dataframe thead th {\n",
       "        text-align: right;\n",
       "    }\n",
       "</style>\n",
       "<table border=\"1\" class=\"dataframe\">\n",
       "  <thead>\n",
       "    <tr style=\"text-align: right;\">\n",
       "      <th></th>\n",
       "      <th>Id</th>\n",
       "      <th>MSSubClass</th>\n",
       "      <th>MSZoning</th>\n",
       "      <th>LotFrontage</th>\n",
       "      <th>LotArea</th>\n",
       "      <th>Street</th>\n",
       "      <th>Alley</th>\n",
       "      <th>LotShape</th>\n",
       "      <th>LandContour</th>\n",
       "      <th>Utilities</th>\n",
       "      <th>...</th>\n",
       "      <th>PoolArea</th>\n",
       "      <th>PoolQC</th>\n",
       "      <th>Fence</th>\n",
       "      <th>MiscFeature</th>\n",
       "      <th>MiscVal</th>\n",
       "      <th>MoSold</th>\n",
       "      <th>YrSold</th>\n",
       "      <th>SaleType</th>\n",
       "      <th>SaleCondition</th>\n",
       "      <th>SalePrice</th>\n",
       "    </tr>\n",
       "  </thead>\n",
       "  <tbody>\n",
       "    <tr>\n",
       "      <th>0</th>\n",
       "      <td>1</td>\n",
       "      <td>60</td>\n",
       "      <td>RL</td>\n",
       "      <td>65.0</td>\n",
       "      <td>8450</td>\n",
       "      <td>Pave</td>\n",
       "      <td>NaN</td>\n",
       "      <td>Reg</td>\n",
       "      <td>Lvl</td>\n",
       "      <td>AllPub</td>\n",
       "      <td>...</td>\n",
       "      <td>0</td>\n",
       "      <td>NaN</td>\n",
       "      <td>NaN</td>\n",
       "      <td>NaN</td>\n",
       "      <td>0</td>\n",
       "      <td>2</td>\n",
       "      <td>2008</td>\n",
       "      <td>WD</td>\n",
       "      <td>Normal</td>\n",
       "      <td>208500</td>\n",
       "    </tr>\n",
       "    <tr>\n",
       "      <th>1</th>\n",
       "      <td>2</td>\n",
       "      <td>20</td>\n",
       "      <td>RL</td>\n",
       "      <td>80.0</td>\n",
       "      <td>9600</td>\n",
       "      <td>Pave</td>\n",
       "      <td>NaN</td>\n",
       "      <td>Reg</td>\n",
       "      <td>Lvl</td>\n",
       "      <td>AllPub</td>\n",
       "      <td>...</td>\n",
       "      <td>0</td>\n",
       "      <td>NaN</td>\n",
       "      <td>NaN</td>\n",
       "      <td>NaN</td>\n",
       "      <td>0</td>\n",
       "      <td>5</td>\n",
       "      <td>2007</td>\n",
       "      <td>WD</td>\n",
       "      <td>Normal</td>\n",
       "      <td>181500</td>\n",
       "    </tr>\n",
       "    <tr>\n",
       "      <th>2</th>\n",
       "      <td>3</td>\n",
       "      <td>60</td>\n",
       "      <td>RL</td>\n",
       "      <td>68.0</td>\n",
       "      <td>11250</td>\n",
       "      <td>Pave</td>\n",
       "      <td>NaN</td>\n",
       "      <td>IR1</td>\n",
       "      <td>Lvl</td>\n",
       "      <td>AllPub</td>\n",
       "      <td>...</td>\n",
       "      <td>0</td>\n",
       "      <td>NaN</td>\n",
       "      <td>NaN</td>\n",
       "      <td>NaN</td>\n",
       "      <td>0</td>\n",
       "      <td>9</td>\n",
       "      <td>2008</td>\n",
       "      <td>WD</td>\n",
       "      <td>Normal</td>\n",
       "      <td>223500</td>\n",
       "    </tr>\n",
       "    <tr>\n",
       "      <th>3</th>\n",
       "      <td>4</td>\n",
       "      <td>70</td>\n",
       "      <td>RL</td>\n",
       "      <td>60.0</td>\n",
       "      <td>9550</td>\n",
       "      <td>Pave</td>\n",
       "      <td>NaN</td>\n",
       "      <td>IR1</td>\n",
       "      <td>Lvl</td>\n",
       "      <td>AllPub</td>\n",
       "      <td>...</td>\n",
       "      <td>0</td>\n",
       "      <td>NaN</td>\n",
       "      <td>NaN</td>\n",
       "      <td>NaN</td>\n",
       "      <td>0</td>\n",
       "      <td>2</td>\n",
       "      <td>2006</td>\n",
       "      <td>WD</td>\n",
       "      <td>Abnorml</td>\n",
       "      <td>140000</td>\n",
       "    </tr>\n",
       "    <tr>\n",
       "      <th>4</th>\n",
       "      <td>5</td>\n",
       "      <td>60</td>\n",
       "      <td>RL</td>\n",
       "      <td>84.0</td>\n",
       "      <td>14260</td>\n",
       "      <td>Pave</td>\n",
       "      <td>NaN</td>\n",
       "      <td>IR1</td>\n",
       "      <td>Lvl</td>\n",
       "      <td>AllPub</td>\n",
       "      <td>...</td>\n",
       "      <td>0</td>\n",
       "      <td>NaN</td>\n",
       "      <td>NaN</td>\n",
       "      <td>NaN</td>\n",
       "      <td>0</td>\n",
       "      <td>12</td>\n",
       "      <td>2008</td>\n",
       "      <td>WD</td>\n",
       "      <td>Normal</td>\n",
       "      <td>250000</td>\n",
       "    </tr>\n",
       "  </tbody>\n",
       "</table>\n",
       "<p>5 rows × 81 columns</p>\n",
       "</div>"
      ],
      "text/plain": [
       "   Id  MSSubClass MSZoning  LotFrontage  LotArea Street Alley LotShape  \\\n",
       "0   1          60       RL         65.0     8450   Pave   NaN      Reg   \n",
       "1   2          20       RL         80.0     9600   Pave   NaN      Reg   \n",
       "2   3          60       RL         68.0    11250   Pave   NaN      IR1   \n",
       "3   4          70       RL         60.0     9550   Pave   NaN      IR1   \n",
       "4   5          60       RL         84.0    14260   Pave   NaN      IR1   \n",
       "\n",
       "  LandContour Utilities  ... PoolArea PoolQC Fence MiscFeature MiscVal MoSold  \\\n",
       "0         Lvl    AllPub  ...        0    NaN   NaN         NaN       0      2   \n",
       "1         Lvl    AllPub  ...        0    NaN   NaN         NaN       0      5   \n",
       "2         Lvl    AllPub  ...        0    NaN   NaN         NaN       0      9   \n",
       "3         Lvl    AllPub  ...        0    NaN   NaN         NaN       0      2   \n",
       "4         Lvl    AllPub  ...        0    NaN   NaN         NaN       0     12   \n",
       "\n",
       "  YrSold  SaleType  SaleCondition  SalePrice  \n",
       "0   2008        WD         Normal     208500  \n",
       "1   2007        WD         Normal     181500  \n",
       "2   2008        WD         Normal     223500  \n",
       "3   2006        WD        Abnorml     140000  \n",
       "4   2008        WD         Normal     250000  \n",
       "\n",
       "[5 rows x 81 columns]"
      ]
     },
     "execution_count": 1398,
     "metadata": {},
     "output_type": "execute_result"
    }
   ],
   "source": [
    "train_data.head(5)"
   ]
  },
  {
   "cell_type": "markdown",
   "id": "76ce6acc",
   "metadata": {},
   "source": [
    "## 2.2 - Display Test Data"
   ]
  },
  {
   "cell_type": "code",
   "execution_count": 1399,
   "id": "eb45c464",
   "metadata": {},
   "outputs": [
    {
     "data": {
      "text/html": [
       "<div>\n",
       "<style scoped>\n",
       "    .dataframe tbody tr th:only-of-type {\n",
       "        vertical-align: middle;\n",
       "    }\n",
       "\n",
       "    .dataframe tbody tr th {\n",
       "        vertical-align: top;\n",
       "    }\n",
       "\n",
       "    .dataframe thead th {\n",
       "        text-align: right;\n",
       "    }\n",
       "</style>\n",
       "<table border=\"1\" class=\"dataframe\">\n",
       "  <thead>\n",
       "    <tr style=\"text-align: right;\">\n",
       "      <th></th>\n",
       "      <th>Id</th>\n",
       "      <th>MSSubClass</th>\n",
       "      <th>MSZoning</th>\n",
       "      <th>LotFrontage</th>\n",
       "      <th>LotArea</th>\n",
       "      <th>Street</th>\n",
       "      <th>Alley</th>\n",
       "      <th>LotShape</th>\n",
       "      <th>LandContour</th>\n",
       "      <th>Utilities</th>\n",
       "      <th>...</th>\n",
       "      <th>ScreenPorch</th>\n",
       "      <th>PoolArea</th>\n",
       "      <th>PoolQC</th>\n",
       "      <th>Fence</th>\n",
       "      <th>MiscFeature</th>\n",
       "      <th>MiscVal</th>\n",
       "      <th>MoSold</th>\n",
       "      <th>YrSold</th>\n",
       "      <th>SaleType</th>\n",
       "      <th>SaleCondition</th>\n",
       "    </tr>\n",
       "  </thead>\n",
       "  <tbody>\n",
       "    <tr>\n",
       "      <th>0</th>\n",
       "      <td>1461</td>\n",
       "      <td>20</td>\n",
       "      <td>RH</td>\n",
       "      <td>80.0</td>\n",
       "      <td>11622</td>\n",
       "      <td>Pave</td>\n",
       "      <td>NaN</td>\n",
       "      <td>Reg</td>\n",
       "      <td>Lvl</td>\n",
       "      <td>AllPub</td>\n",
       "      <td>...</td>\n",
       "      <td>120</td>\n",
       "      <td>0</td>\n",
       "      <td>NaN</td>\n",
       "      <td>MnPrv</td>\n",
       "      <td>NaN</td>\n",
       "      <td>0</td>\n",
       "      <td>6</td>\n",
       "      <td>2010</td>\n",
       "      <td>WD</td>\n",
       "      <td>Normal</td>\n",
       "    </tr>\n",
       "    <tr>\n",
       "      <th>1</th>\n",
       "      <td>1462</td>\n",
       "      <td>20</td>\n",
       "      <td>RL</td>\n",
       "      <td>81.0</td>\n",
       "      <td>14267</td>\n",
       "      <td>Pave</td>\n",
       "      <td>NaN</td>\n",
       "      <td>IR1</td>\n",
       "      <td>Lvl</td>\n",
       "      <td>AllPub</td>\n",
       "      <td>...</td>\n",
       "      <td>0</td>\n",
       "      <td>0</td>\n",
       "      <td>NaN</td>\n",
       "      <td>NaN</td>\n",
       "      <td>Gar2</td>\n",
       "      <td>12500</td>\n",
       "      <td>6</td>\n",
       "      <td>2010</td>\n",
       "      <td>WD</td>\n",
       "      <td>Normal</td>\n",
       "    </tr>\n",
       "    <tr>\n",
       "      <th>2</th>\n",
       "      <td>1463</td>\n",
       "      <td>60</td>\n",
       "      <td>RL</td>\n",
       "      <td>74.0</td>\n",
       "      <td>13830</td>\n",
       "      <td>Pave</td>\n",
       "      <td>NaN</td>\n",
       "      <td>IR1</td>\n",
       "      <td>Lvl</td>\n",
       "      <td>AllPub</td>\n",
       "      <td>...</td>\n",
       "      <td>0</td>\n",
       "      <td>0</td>\n",
       "      <td>NaN</td>\n",
       "      <td>MnPrv</td>\n",
       "      <td>NaN</td>\n",
       "      <td>0</td>\n",
       "      <td>3</td>\n",
       "      <td>2010</td>\n",
       "      <td>WD</td>\n",
       "      <td>Normal</td>\n",
       "    </tr>\n",
       "    <tr>\n",
       "      <th>3</th>\n",
       "      <td>1464</td>\n",
       "      <td>60</td>\n",
       "      <td>RL</td>\n",
       "      <td>78.0</td>\n",
       "      <td>9978</td>\n",
       "      <td>Pave</td>\n",
       "      <td>NaN</td>\n",
       "      <td>IR1</td>\n",
       "      <td>Lvl</td>\n",
       "      <td>AllPub</td>\n",
       "      <td>...</td>\n",
       "      <td>0</td>\n",
       "      <td>0</td>\n",
       "      <td>NaN</td>\n",
       "      <td>NaN</td>\n",
       "      <td>NaN</td>\n",
       "      <td>0</td>\n",
       "      <td>6</td>\n",
       "      <td>2010</td>\n",
       "      <td>WD</td>\n",
       "      <td>Normal</td>\n",
       "    </tr>\n",
       "    <tr>\n",
       "      <th>4</th>\n",
       "      <td>1465</td>\n",
       "      <td>120</td>\n",
       "      <td>RL</td>\n",
       "      <td>43.0</td>\n",
       "      <td>5005</td>\n",
       "      <td>Pave</td>\n",
       "      <td>NaN</td>\n",
       "      <td>IR1</td>\n",
       "      <td>HLS</td>\n",
       "      <td>AllPub</td>\n",
       "      <td>...</td>\n",
       "      <td>144</td>\n",
       "      <td>0</td>\n",
       "      <td>NaN</td>\n",
       "      <td>NaN</td>\n",
       "      <td>NaN</td>\n",
       "      <td>0</td>\n",
       "      <td>1</td>\n",
       "      <td>2010</td>\n",
       "      <td>WD</td>\n",
       "      <td>Normal</td>\n",
       "    </tr>\n",
       "  </tbody>\n",
       "</table>\n",
       "<p>5 rows × 80 columns</p>\n",
       "</div>"
      ],
      "text/plain": [
       "     Id  MSSubClass MSZoning  LotFrontage  LotArea Street Alley LotShape  \\\n",
       "0  1461          20       RH         80.0    11622   Pave   NaN      Reg   \n",
       "1  1462          20       RL         81.0    14267   Pave   NaN      IR1   \n",
       "2  1463          60       RL         74.0    13830   Pave   NaN      IR1   \n",
       "3  1464          60       RL         78.0     9978   Pave   NaN      IR1   \n",
       "4  1465         120       RL         43.0     5005   Pave   NaN      IR1   \n",
       "\n",
       "  LandContour Utilities  ... ScreenPorch PoolArea PoolQC  Fence MiscFeature  \\\n",
       "0         Lvl    AllPub  ...         120        0    NaN  MnPrv         NaN   \n",
       "1         Lvl    AllPub  ...           0        0    NaN    NaN        Gar2   \n",
       "2         Lvl    AllPub  ...           0        0    NaN  MnPrv         NaN   \n",
       "3         Lvl    AllPub  ...           0        0    NaN    NaN         NaN   \n",
       "4         HLS    AllPub  ...         144        0    NaN    NaN         NaN   \n",
       "\n",
       "  MiscVal MoSold  YrSold  SaleType  SaleCondition  \n",
       "0       0      6    2010        WD         Normal  \n",
       "1   12500      6    2010        WD         Normal  \n",
       "2       0      3    2010        WD         Normal  \n",
       "3       0      6    2010        WD         Normal  \n",
       "4       0      1    2010        WD         Normal  \n",
       "\n",
       "[5 rows x 80 columns]"
      ]
     },
     "execution_count": 1399,
     "metadata": {},
     "output_type": "execute_result"
    }
   ],
   "source": [
    "test_data.head(5)"
   ]
  },
  {
   "cell_type": "markdown",
   "id": "1aada6ec",
   "metadata": {},
   "source": [
    "## 3.1 - Check up for columns with missing Data"
   ]
  },
  {
   "cell_type": "code",
   "execution_count": 1400,
   "id": "bcbba4f8",
   "metadata": {},
   "outputs": [
    {
     "data": {
      "text/plain": [
       "PoolQC          99.520548\n",
       "MiscFeature     96.301370\n",
       "Alley           93.767123\n",
       "Fence           80.753425\n",
       "FireplaceQu     47.260274\n",
       "LotFrontage     17.739726\n",
       "GarageYrBlt      5.547945\n",
       "GarageCond       5.547945\n",
       "GarageType       5.547945\n",
       "GarageFinish     5.547945\n",
       "dtype: float64"
      ]
     },
     "execution_count": 1400,
     "metadata": {},
     "output_type": "execute_result"
    }
   ],
   "source": [
    "train_data.isnull().sum().sort_values(ascending=False).head(10) / len(train_data) *100"
   ]
  },
  {
   "cell_type": "code",
   "execution_count": 1401,
   "id": "665a3f92",
   "metadata": {},
   "outputs": [
    {
     "data": {
      "text/plain": [
       "PoolQC          99.726027\n",
       "MiscFeature     96.438356\n",
       "Alley           92.602740\n",
       "Fence           80.068493\n",
       "FireplaceQu     50.000000\n",
       "LotFrontage     15.547945\n",
       "GarageYrBlt      5.342466\n",
       "GarageQual       5.342466\n",
       "GarageFinish     5.342466\n",
       "GarageCond       5.342466\n",
       "dtype: float64"
      ]
     },
     "execution_count": 1401,
     "metadata": {},
     "output_type": "execute_result"
    }
   ],
   "source": [
    "test_data.isnull().sum().sort_values(ascending=False).head(10) / len(train_data) *100"
   ]
  },
  {
   "cell_type": "markdown",
   "id": "8cca7cbe",
   "metadata": {},
   "source": [
    "## 3.2 -Drop Unwanted Columns ( columns with a lot of missing data)"
   ]
  },
  {
   "cell_type": "code",
   "execution_count": 1402,
   "id": "ed190af6",
   "metadata": {},
   "outputs": [],
   "source": [
    "train_data.drop([\"PoolQC\", \"MiscFeature\",\"Alley\",\"Fence\",\"FireplaceQu\"], axis = 1, inplace = True)"
   ]
  },
  {
   "cell_type": "code",
   "execution_count": 1403,
   "id": "3165f1fa",
   "metadata": {},
   "outputs": [
    {
     "data": {
      "text/html": [
       "<div>\n",
       "<style scoped>\n",
       "    .dataframe tbody tr th:only-of-type {\n",
       "        vertical-align: middle;\n",
       "    }\n",
       "\n",
       "    .dataframe tbody tr th {\n",
       "        vertical-align: top;\n",
       "    }\n",
       "\n",
       "    .dataframe thead th {\n",
       "        text-align: right;\n",
       "    }\n",
       "</style>\n",
       "<table border=\"1\" class=\"dataframe\">\n",
       "  <thead>\n",
       "    <tr style=\"text-align: right;\">\n",
       "      <th></th>\n",
       "      <th>Id</th>\n",
       "      <th>MSSubClass</th>\n",
       "      <th>MSZoning</th>\n",
       "      <th>LotFrontage</th>\n",
       "      <th>LotArea</th>\n",
       "      <th>Street</th>\n",
       "      <th>LotShape</th>\n",
       "      <th>LandContour</th>\n",
       "      <th>Utilities</th>\n",
       "      <th>LotConfig</th>\n",
       "      <th>...</th>\n",
       "      <th>EnclosedPorch</th>\n",
       "      <th>3SsnPorch</th>\n",
       "      <th>ScreenPorch</th>\n",
       "      <th>PoolArea</th>\n",
       "      <th>MiscVal</th>\n",
       "      <th>MoSold</th>\n",
       "      <th>YrSold</th>\n",
       "      <th>SaleType</th>\n",
       "      <th>SaleCondition</th>\n",
       "      <th>SalePrice</th>\n",
       "    </tr>\n",
       "  </thead>\n",
       "  <tbody>\n",
       "    <tr>\n",
       "      <th>0</th>\n",
       "      <td>1</td>\n",
       "      <td>60</td>\n",
       "      <td>RL</td>\n",
       "      <td>65.0</td>\n",
       "      <td>8450</td>\n",
       "      <td>Pave</td>\n",
       "      <td>Reg</td>\n",
       "      <td>Lvl</td>\n",
       "      <td>AllPub</td>\n",
       "      <td>Inside</td>\n",
       "      <td>...</td>\n",
       "      <td>0</td>\n",
       "      <td>0</td>\n",
       "      <td>0</td>\n",
       "      <td>0</td>\n",
       "      <td>0</td>\n",
       "      <td>2</td>\n",
       "      <td>2008</td>\n",
       "      <td>WD</td>\n",
       "      <td>Normal</td>\n",
       "      <td>208500</td>\n",
       "    </tr>\n",
       "    <tr>\n",
       "      <th>1</th>\n",
       "      <td>2</td>\n",
       "      <td>20</td>\n",
       "      <td>RL</td>\n",
       "      <td>80.0</td>\n",
       "      <td>9600</td>\n",
       "      <td>Pave</td>\n",
       "      <td>Reg</td>\n",
       "      <td>Lvl</td>\n",
       "      <td>AllPub</td>\n",
       "      <td>FR2</td>\n",
       "      <td>...</td>\n",
       "      <td>0</td>\n",
       "      <td>0</td>\n",
       "      <td>0</td>\n",
       "      <td>0</td>\n",
       "      <td>0</td>\n",
       "      <td>5</td>\n",
       "      <td>2007</td>\n",
       "      <td>WD</td>\n",
       "      <td>Normal</td>\n",
       "      <td>181500</td>\n",
       "    </tr>\n",
       "    <tr>\n",
       "      <th>2</th>\n",
       "      <td>3</td>\n",
       "      <td>60</td>\n",
       "      <td>RL</td>\n",
       "      <td>68.0</td>\n",
       "      <td>11250</td>\n",
       "      <td>Pave</td>\n",
       "      <td>IR1</td>\n",
       "      <td>Lvl</td>\n",
       "      <td>AllPub</td>\n",
       "      <td>Inside</td>\n",
       "      <td>...</td>\n",
       "      <td>0</td>\n",
       "      <td>0</td>\n",
       "      <td>0</td>\n",
       "      <td>0</td>\n",
       "      <td>0</td>\n",
       "      <td>9</td>\n",
       "      <td>2008</td>\n",
       "      <td>WD</td>\n",
       "      <td>Normal</td>\n",
       "      <td>223500</td>\n",
       "    </tr>\n",
       "    <tr>\n",
       "      <th>3</th>\n",
       "      <td>4</td>\n",
       "      <td>70</td>\n",
       "      <td>RL</td>\n",
       "      <td>60.0</td>\n",
       "      <td>9550</td>\n",
       "      <td>Pave</td>\n",
       "      <td>IR1</td>\n",
       "      <td>Lvl</td>\n",
       "      <td>AllPub</td>\n",
       "      <td>Corner</td>\n",
       "      <td>...</td>\n",
       "      <td>272</td>\n",
       "      <td>0</td>\n",
       "      <td>0</td>\n",
       "      <td>0</td>\n",
       "      <td>0</td>\n",
       "      <td>2</td>\n",
       "      <td>2006</td>\n",
       "      <td>WD</td>\n",
       "      <td>Abnorml</td>\n",
       "      <td>140000</td>\n",
       "    </tr>\n",
       "    <tr>\n",
       "      <th>4</th>\n",
       "      <td>5</td>\n",
       "      <td>60</td>\n",
       "      <td>RL</td>\n",
       "      <td>84.0</td>\n",
       "      <td>14260</td>\n",
       "      <td>Pave</td>\n",
       "      <td>IR1</td>\n",
       "      <td>Lvl</td>\n",
       "      <td>AllPub</td>\n",
       "      <td>FR2</td>\n",
       "      <td>...</td>\n",
       "      <td>0</td>\n",
       "      <td>0</td>\n",
       "      <td>0</td>\n",
       "      <td>0</td>\n",
       "      <td>0</td>\n",
       "      <td>12</td>\n",
       "      <td>2008</td>\n",
       "      <td>WD</td>\n",
       "      <td>Normal</td>\n",
       "      <td>250000</td>\n",
       "    </tr>\n",
       "  </tbody>\n",
       "</table>\n",
       "<p>5 rows × 76 columns</p>\n",
       "</div>"
      ],
      "text/plain": [
       "   Id  MSSubClass MSZoning  LotFrontage  LotArea Street LotShape LandContour  \\\n",
       "0   1          60       RL         65.0     8450   Pave      Reg         Lvl   \n",
       "1   2          20       RL         80.0     9600   Pave      Reg         Lvl   \n",
       "2   3          60       RL         68.0    11250   Pave      IR1         Lvl   \n",
       "3   4          70       RL         60.0     9550   Pave      IR1         Lvl   \n",
       "4   5          60       RL         84.0    14260   Pave      IR1         Lvl   \n",
       "\n",
       "  Utilities LotConfig  ... EnclosedPorch 3SsnPorch ScreenPorch PoolArea  \\\n",
       "0    AllPub    Inside  ...             0         0           0        0   \n",
       "1    AllPub       FR2  ...             0         0           0        0   \n",
       "2    AllPub    Inside  ...             0         0           0        0   \n",
       "3    AllPub    Corner  ...           272         0           0        0   \n",
       "4    AllPub       FR2  ...             0         0           0        0   \n",
       "\n",
       "  MiscVal MoSold  YrSold  SaleType  SaleCondition  SalePrice  \n",
       "0       0      2    2008        WD         Normal     208500  \n",
       "1       0      5    2007        WD         Normal     181500  \n",
       "2       0      9    2008        WD         Normal     223500  \n",
       "3       0      2    2006        WD        Abnorml     140000  \n",
       "4       0     12    2008        WD         Normal     250000  \n",
       "\n",
       "[5 rows x 76 columns]"
      ]
     },
     "execution_count": 1403,
     "metadata": {},
     "output_type": "execute_result"
    }
   ],
   "source": [
    "train_data.head()"
   ]
  },
  {
   "cell_type": "code",
   "execution_count": 1404,
   "id": "f6ed31d6",
   "metadata": {},
   "outputs": [],
   "source": [
    "test_data.drop([\"PoolQC\", \"MiscFeature\",\"Alley\",\"Fence\",\"FireplaceQu\"], axis = 1, inplace = True)"
   ]
  },
  {
   "cell_type": "code",
   "execution_count": 1405,
   "id": "2951d458",
   "metadata": {},
   "outputs": [
    {
     "data": {
      "text/html": [
       "<div>\n",
       "<style scoped>\n",
       "    .dataframe tbody tr th:only-of-type {\n",
       "        vertical-align: middle;\n",
       "    }\n",
       "\n",
       "    .dataframe tbody tr th {\n",
       "        vertical-align: top;\n",
       "    }\n",
       "\n",
       "    .dataframe thead th {\n",
       "        text-align: right;\n",
       "    }\n",
       "</style>\n",
       "<table border=\"1\" class=\"dataframe\">\n",
       "  <thead>\n",
       "    <tr style=\"text-align: right;\">\n",
       "      <th></th>\n",
       "      <th>Id</th>\n",
       "      <th>MSSubClass</th>\n",
       "      <th>MSZoning</th>\n",
       "      <th>LotFrontage</th>\n",
       "      <th>LotArea</th>\n",
       "      <th>Street</th>\n",
       "      <th>LotShape</th>\n",
       "      <th>LandContour</th>\n",
       "      <th>Utilities</th>\n",
       "      <th>LotConfig</th>\n",
       "      <th>...</th>\n",
       "      <th>OpenPorchSF</th>\n",
       "      <th>EnclosedPorch</th>\n",
       "      <th>3SsnPorch</th>\n",
       "      <th>ScreenPorch</th>\n",
       "      <th>PoolArea</th>\n",
       "      <th>MiscVal</th>\n",
       "      <th>MoSold</th>\n",
       "      <th>YrSold</th>\n",
       "      <th>SaleType</th>\n",
       "      <th>SaleCondition</th>\n",
       "    </tr>\n",
       "  </thead>\n",
       "  <tbody>\n",
       "    <tr>\n",
       "      <th>0</th>\n",
       "      <td>1461</td>\n",
       "      <td>20</td>\n",
       "      <td>RH</td>\n",
       "      <td>80.0</td>\n",
       "      <td>11622</td>\n",
       "      <td>Pave</td>\n",
       "      <td>Reg</td>\n",
       "      <td>Lvl</td>\n",
       "      <td>AllPub</td>\n",
       "      <td>Inside</td>\n",
       "      <td>...</td>\n",
       "      <td>0</td>\n",
       "      <td>0</td>\n",
       "      <td>0</td>\n",
       "      <td>120</td>\n",
       "      <td>0</td>\n",
       "      <td>0</td>\n",
       "      <td>6</td>\n",
       "      <td>2010</td>\n",
       "      <td>WD</td>\n",
       "      <td>Normal</td>\n",
       "    </tr>\n",
       "    <tr>\n",
       "      <th>1</th>\n",
       "      <td>1462</td>\n",
       "      <td>20</td>\n",
       "      <td>RL</td>\n",
       "      <td>81.0</td>\n",
       "      <td>14267</td>\n",
       "      <td>Pave</td>\n",
       "      <td>IR1</td>\n",
       "      <td>Lvl</td>\n",
       "      <td>AllPub</td>\n",
       "      <td>Corner</td>\n",
       "      <td>...</td>\n",
       "      <td>36</td>\n",
       "      <td>0</td>\n",
       "      <td>0</td>\n",
       "      <td>0</td>\n",
       "      <td>0</td>\n",
       "      <td>12500</td>\n",
       "      <td>6</td>\n",
       "      <td>2010</td>\n",
       "      <td>WD</td>\n",
       "      <td>Normal</td>\n",
       "    </tr>\n",
       "    <tr>\n",
       "      <th>2</th>\n",
       "      <td>1463</td>\n",
       "      <td>60</td>\n",
       "      <td>RL</td>\n",
       "      <td>74.0</td>\n",
       "      <td>13830</td>\n",
       "      <td>Pave</td>\n",
       "      <td>IR1</td>\n",
       "      <td>Lvl</td>\n",
       "      <td>AllPub</td>\n",
       "      <td>Inside</td>\n",
       "      <td>...</td>\n",
       "      <td>34</td>\n",
       "      <td>0</td>\n",
       "      <td>0</td>\n",
       "      <td>0</td>\n",
       "      <td>0</td>\n",
       "      <td>0</td>\n",
       "      <td>3</td>\n",
       "      <td>2010</td>\n",
       "      <td>WD</td>\n",
       "      <td>Normal</td>\n",
       "    </tr>\n",
       "    <tr>\n",
       "      <th>3</th>\n",
       "      <td>1464</td>\n",
       "      <td>60</td>\n",
       "      <td>RL</td>\n",
       "      <td>78.0</td>\n",
       "      <td>9978</td>\n",
       "      <td>Pave</td>\n",
       "      <td>IR1</td>\n",
       "      <td>Lvl</td>\n",
       "      <td>AllPub</td>\n",
       "      <td>Inside</td>\n",
       "      <td>...</td>\n",
       "      <td>36</td>\n",
       "      <td>0</td>\n",
       "      <td>0</td>\n",
       "      <td>0</td>\n",
       "      <td>0</td>\n",
       "      <td>0</td>\n",
       "      <td>6</td>\n",
       "      <td>2010</td>\n",
       "      <td>WD</td>\n",
       "      <td>Normal</td>\n",
       "    </tr>\n",
       "    <tr>\n",
       "      <th>4</th>\n",
       "      <td>1465</td>\n",
       "      <td>120</td>\n",
       "      <td>RL</td>\n",
       "      <td>43.0</td>\n",
       "      <td>5005</td>\n",
       "      <td>Pave</td>\n",
       "      <td>IR1</td>\n",
       "      <td>HLS</td>\n",
       "      <td>AllPub</td>\n",
       "      <td>Inside</td>\n",
       "      <td>...</td>\n",
       "      <td>82</td>\n",
       "      <td>0</td>\n",
       "      <td>0</td>\n",
       "      <td>144</td>\n",
       "      <td>0</td>\n",
       "      <td>0</td>\n",
       "      <td>1</td>\n",
       "      <td>2010</td>\n",
       "      <td>WD</td>\n",
       "      <td>Normal</td>\n",
       "    </tr>\n",
       "  </tbody>\n",
       "</table>\n",
       "<p>5 rows × 75 columns</p>\n",
       "</div>"
      ],
      "text/plain": [
       "     Id  MSSubClass MSZoning  LotFrontage  LotArea Street LotShape  \\\n",
       "0  1461          20       RH         80.0    11622   Pave      Reg   \n",
       "1  1462          20       RL         81.0    14267   Pave      IR1   \n",
       "2  1463          60       RL         74.0    13830   Pave      IR1   \n",
       "3  1464          60       RL         78.0     9978   Pave      IR1   \n",
       "4  1465         120       RL         43.0     5005   Pave      IR1   \n",
       "\n",
       "  LandContour Utilities LotConfig  ... OpenPorchSF EnclosedPorch 3SsnPorch  \\\n",
       "0         Lvl    AllPub    Inside  ...           0             0         0   \n",
       "1         Lvl    AllPub    Corner  ...          36             0         0   \n",
       "2         Lvl    AllPub    Inside  ...          34             0         0   \n",
       "3         Lvl    AllPub    Inside  ...          36             0         0   \n",
       "4         HLS    AllPub    Inside  ...          82             0         0   \n",
       "\n",
       "  ScreenPorch PoolArea MiscVal  MoSold  YrSold  SaleType  SaleCondition  \n",
       "0         120        0       0       6    2010        WD         Normal  \n",
       "1           0        0   12500       6    2010        WD         Normal  \n",
       "2           0        0       0       3    2010        WD         Normal  \n",
       "3           0        0       0       6    2010        WD         Normal  \n",
       "4         144        0       0       1    2010        WD         Normal  \n",
       "\n",
       "[5 rows x 75 columns]"
      ]
     },
     "execution_count": 1405,
     "metadata": {},
     "output_type": "execute_result"
    }
   ],
   "source": [
    "test_data.head()"
   ]
  },
  {
   "cell_type": "markdown",
   "id": "f4953a40",
   "metadata": {},
   "source": [
    "# 4.0 -  Features Selection"
   ]
  },
  {
   "cell_type": "markdown",
   "id": "d4c56fd2",
   "metadata": {},
   "source": [
    "## 4.2 - Encode Categorical Features "
   ]
  },
  {
   "cell_type": "code",
   "execution_count": 1406,
   "id": "a63da7fe",
   "metadata": {},
   "outputs": [],
   "source": [
    "le = preprocessing.LabelEncoder()\n",
    "\n",
    "## Training Data\n",
    "train_data[\"Street\"]=le.fit_transform(train_data[\"Street\"])\n",
    "train_data[\"MSZoning\"]=le.fit_transform(train_data[\"MSZoning\"])\n",
    "train_data[\"Condition1\"]=le.fit_transform(train_data[\"Condition1\"])\n",
    "train_data[\"Condition2\"]=le.fit_transform(train_data[\"Condition2\"])\n",
    "train_data[\"SaleCondition\"]=le.fit_transform(train_data[\"SaleCondition\"])\n",
    "train_data[\"Neighborhood\"]=le.fit_transform(train_data[\"Neighborhood\"])\n",
    "train_data[\"LandSlope\"]=le.fit_transform(train_data[\"LandSlope\"])\n",
    "train_data[\"BldgType\"]=le.fit_transform(train_data[\"BldgType\"])\n",
    "train_data[\"Exterior1st\"]=le.fit_transform(train_data[\"Exterior1st\"])\n",
    "train_data[\"MasVnrType\"]=le.fit_transform(train_data[\"MasVnrType\"])\n",
    "train_data[\"ExterQual\"]=le.fit_transform(train_data[\"ExterQual\"])\n",
    "train_data[\"ExterCond\"]=le.fit_transform(train_data[\"ExterCond\"])\n",
    "train_data[\"Foundation\"]=le.fit_transform(train_data[\"Foundation\"])\n",
    "train_data[\"BsmtQual\"]=le.fit_transform(train_data[\"BsmtQual\"])\n",
    "train_data[\"BsmtCond\"]=le.fit_transform(train_data[\"BsmtCond\"])\n",
    "train_data[\"BsmtExposure\"]=le.fit_transform(train_data[\"BsmtExposure\"])\n",
    "train_data[\"BsmtFinType1\"]=le.fit_transform(train_data[\"BsmtFinType1\"])\n",
    "train_data[\"BsmtFinType2\"]=le.fit_transform(train_data[\"BsmtFinType2\"])\n",
    "train_data[\"Heating\"]=le.fit_transform(train_data[\"Heating\"])\n",
    "train_data[\"HeatingQC\"]=le.fit_transform(train_data[\"HeatingQC\"])\n",
    "train_data[\"CentralAir\"]=le.fit_transform(train_data[\"CentralAir\"])\n",
    "train_data[\"Electrical\"]=le.fit_transform(train_data[\"Electrical\"])\n",
    "train_data[\"KitchenQual\"]=le.fit_transform(train_data[\"KitchenQual\"])\n",
    "train_data[\"Functional\"]=le.fit_transform(train_data[\"Functional\"])\n",
    "train_data[\"GarageType\"]=le.fit_transform(train_data[\"GarageType\"])\n",
    "train_data[\"GarageFinish\"]=le.fit_transform(train_data[\"GarageFinish\"])\n",
    "train_data[\"GarageQual\"]=le.fit_transform(train_data[\"GarageQual\"])\n",
    "train_data[\"GarageCond\"]=le.fit_transform(train_data[\"GarageCond\"])\n",
    "train_data[\"PavedDrive\"]=le.fit_transform(train_data[\"PavedDrive\"])\n",
    "train_data[\"SaleType\"]=le.fit_transform(train_data[\"SaleType\"])\n",
    "\n",
    "## testing Data\n",
    "test_data[\"Street\"]=le.fit_transform(test_data[\"Street\"])\n",
    "test_data[\"MSZoning\"]=le.fit_transform(test_data[\"MSZoning\"])\n",
    "test_data[\"Condition1\"]=le.fit_transform(test_data[\"Condition1\"])\n",
    "test_data[\"Condition2\"]=le.fit_transform(test_data[\"Condition2\"])\n",
    "test_data[\"SaleCondition\"]=le.fit_transform(test_data[\"SaleCondition\"])\n",
    "test_data[\"Neighborhood\"]=le.fit_transform(test_data[\"Neighborhood\"])\n",
    "test_data[\"LandSlope\"]=le.fit_transform(test_data[\"LandSlope\"])\n",
    "test_data[\"BldgType\"]=le.fit_transform(test_data[\"BldgType\"])\n",
    "test_data[\"Exterior1st\"]=le.fit_transform(test_data[\"Exterior1st\"])\n",
    "test_data[\"MasVnrType\"]=le.fit_transform(test_data[\"MasVnrType\"])\n",
    "test_data[\"ExterQual\"]=le.fit_transform(test_data[\"ExterQual\"])\n",
    "test_data[\"ExterCond\"]=le.fit_transform(test_data[\"ExterCond\"])\n",
    "test_data[\"Foundation\"]=le.fit_transform(test_data[\"Foundation\"])\n",
    "test_data[\"BsmtQual\"]=le.fit_transform(test_data[\"BsmtQual\"])\n",
    "test_data[\"BsmtCond\"]=le.fit_transform(test_data[\"BsmtCond\"])\n",
    "test_data[\"BsmtExposure\"]=le.fit_transform(test_data[\"BsmtExposure\"])\n",
    "test_data[\"BsmtFinType1\"]=le.fit_transform(test_data[\"BsmtFinType1\"])\n",
    "test_data[\"BsmtFinType2\"]=le.fit_transform(test_data[\"BsmtFinType2\"])\n",
    "test_data[\"Heating\"]=le.fit_transform(test_data[\"Heating\"])\n",
    "test_data[\"HeatingQC\"]=le.fit_transform(test_data[\"HeatingQC\"])\n",
    "test_data[\"CentralAir\"]=le.fit_transform(test_data[\"CentralAir\"])\n",
    "test_data[\"Electrical\"]=le.fit_transform(test_data[\"Electrical\"])\n",
    "test_data[\"KitchenQual\"]=le.fit_transform(test_data[\"KitchenQual\"])\n",
    "test_data[\"Functional\"]=le.fit_transform(test_data[\"Functional\"])\n",
    "test_data[\"GarageType\"]=le.fit_transform(test_data[\"GarageType\"])\n",
    "test_data[\"GarageFinish\"]=le.fit_transform(test_data[\"GarageFinish\"])\n",
    "test_data[\"GarageQual\"]=le.fit_transform(test_data[\"GarageQual\"])\n",
    "test_data[\"GarageCond\"]=le.fit_transform(test_data[\"GarageCond\"])\n",
    "test_data[\"PavedDrive\"]=le.fit_transform(test_data[\"PavedDrive\"])\n",
    "test_data[\"SaleType\"]=le.fit_transform(test_data[\"SaleType\"])\n"
   ]
  },
  {
   "cell_type": "markdown",
   "id": "44f10b99",
   "metadata": {},
   "source": [
    "## 4.3 - Fill Features with Null /NA values"
   ]
  },
  {
   "cell_type": "code",
   "execution_count": 1407,
   "id": "d7baae24",
   "metadata": {},
   "outputs": [
    {
     "data": {
      "text/plain": [
       "LotFrontage     17.739726\n",
       "GarageYrBlt      5.547945\n",
       "MasVnrArea       0.547945\n",
       "Id               0.000000\n",
       "HalfBath         0.000000\n",
       "Fireplaces       0.000000\n",
       "Functional       0.000000\n",
       "TotRmsAbvGrd     0.000000\n",
       "KitchenQual      0.000000\n",
       "KitchenAbvGr     0.000000\n",
       "dtype: float64"
      ]
     },
     "execution_count": 1407,
     "metadata": {},
     "output_type": "execute_result"
    }
   ],
   "source": [
    "train_data.isnull().sum().sort_values(ascending=False).head(10) / len(train_data) *100"
   ]
  },
  {
   "cell_type": "code",
   "execution_count": 1408,
   "id": "f4b984ae",
   "metadata": {},
   "outputs": [
    {
     "data": {
      "text/plain": [
       "Id              0.0\n",
       "FullBath        0.0\n",
       "Fireplaces      0.0\n",
       "Functional      0.0\n",
       "TotRmsAbvGrd    0.0\n",
       "KitchenQual     0.0\n",
       "KitchenAbvGr    0.0\n",
       "BedroomAbvGr    0.0\n",
       "HalfBath        0.0\n",
       "BsmtHalfBath    0.0\n",
       "dtype: float64"
      ]
     },
     "execution_count": 1408,
     "metadata": {},
     "output_type": "execute_result"
    }
   ],
   "source": [
    "train_data['LotFrontage'].fillna(int(train_data['LotFrontage'].mean()), inplace=True)\n",
    "train_data['MasVnrArea'].fillna(int(train_data['MasVnrArea'].mean()), inplace=True)\n",
    "train_data['SalePrice'].fillna(int(train_data['SalePrice'].mean()), inplace=True)\n",
    "train_data['BsmtFinSF1'].fillna(int(train_data['BsmtFinSF1'].mean()), inplace=True)\n",
    "train_data['GarageYrBlt'].interpolate(method ='linear', limit_direction ='backward', inplace=True)\n",
    "train_data.isnull().sum().sort_values(ascending=False).head(10) / len(train_data) *100"
   ]
  },
  {
   "cell_type": "code",
   "execution_count": 1409,
   "id": "e26185fb",
   "metadata": {},
   "outputs": [
    {
     "data": {
      "text/plain": [
       "Utilities       0.13708\n",
       "Exterior2nd     0.06854\n",
       "BsmtUnfSF       0.06854\n",
       "BsmtFinSF2      0.06854\n",
       "GarageArea      0.06854\n",
       "Id              0.00000\n",
       "HalfBath        0.00000\n",
       "TotRmsAbvGrd    0.00000\n",
       "KitchenQual     0.00000\n",
       "KitchenAbvGr    0.00000\n",
       "BedroomAbvGr    0.00000\n",
       "BsmtHalfBath    0.00000\n",
       "FullBath        0.00000\n",
       "Fireplaces      0.00000\n",
       "BsmtFullBath    0.00000\n",
       "dtype: float64"
      ]
     },
     "execution_count": 1409,
     "metadata": {},
     "output_type": "execute_result"
    }
   ],
   "source": [
    "test_data['LotFrontage'].fillna(int(test_data['LotFrontage'].mean()), inplace=True)\n",
    "test_data['MasVnrArea'].fillna(int(test_data['MasVnrArea'].mean()), inplace=True)\n",
    "test_data['BsmtFinSF1'].fillna(int(test_data['BsmtFinSF1'].mean()), inplace=True)\n",
    "test_data['GarageCars'].fillna(int(test_data['GarageCars'].mean()), inplace=True)\n",
    "test_data['TotalBsmtSF'].fillna(int(test_data['TotalBsmtSF'].mean()), inplace=True)\n",
    "test_data['GarageYrBlt'].interpolate(method ='linear', limit_direction ='backward', inplace=True)\n",
    "test_data['BsmtHalfBath'].interpolate(method ='linear', limit_direction ='backward', inplace=True)\n",
    "test_data['BsmtFullBath'].interpolate(method ='linear', limit_direction ='backward', inplace=True)\n",
    "test_data.isnull().sum().sort_values(ascending=False).head(15) / len(test_data) *100"
   ]
  },
  {
   "cell_type": "markdown",
   "id": "fb15ba11",
   "metadata": {},
   "source": [
    "## 4.2 - Test Correlation between Targeted predicitions and Possible Features"
   ]
  },
  {
   "cell_type": "code",
   "execution_count": 1422,
   "id": "34650d50",
   "metadata": {},
   "outputs": [
    {
     "name": "stdout",
     "output_type": "stream",
     "text": [
      "SalePrice       1.000000\n",
      "OverallQual     0.790982\n",
      "GrLivArea       0.708624\n",
      "GarageCars      0.640409\n",
      "GarageArea      0.623431\n",
      "TotalBsmtSF     0.613581\n",
      "1stFlrSF        0.605852\n",
      "FullBath        0.560664\n",
      "TotRmsAbvGrd    0.533723\n",
      "YearBuilt       0.522897\n",
      "YearRemodAdd    0.507101\n",
      "MasVnrArea      0.475227\n",
      "GarageYrBlt     0.467290\n",
      "Fireplaces      0.466929\n",
      "BsmtFinSF1      0.386420\n",
      "Foundation      0.382479\n",
      "LotFrontage     0.334897\n",
      "WoodDeckSF      0.324413\n",
      "2ndFlrSF        0.319334\n",
      "OpenPorchSF     0.315856\n",
      "HalfBath        0.284108\n",
      "LotArea         0.263843\n",
      "CentralAir      0.251328\n",
      "Electrical      0.234716\n",
      "PavedDrive      0.231357\n",
      "dtype: float64 \n",
      "-------------------------\n",
      "MiscVal         -0.021190\n",
      "Id              -0.021917\n",
      "LowQualFinSF    -0.025606\n",
      "YrSold          -0.028923\n",
      "SaleType        -0.054911\n",
      "OverallCond     -0.077856\n",
      "MSSubClass      -0.084284\n",
      "BldgType        -0.085591\n",
      "Heating         -0.098812\n",
      "BsmtFinType1    -0.103114\n",
      "EnclosedPorch   -0.128578\n",
      "KitchenAbvGr    -0.135907\n",
      "MSZoning        -0.166872\n",
      "BsmtExposure    -0.309043\n",
      "HeatingQC       -0.400178\n",
      "GarageType      -0.415283\n",
      "GarageFinish    -0.549247\n",
      "KitchenQual     -0.589189\n",
      "BsmtQual        -0.620886\n",
      "ExterQual       -0.636884\n",
      "dtype: float64\n"
     ]
    }
   ],
   "source": [
    "corr_with=train_data.corrwith(train_data[\"SalePrice\"]).sort_values(ascending=False)\n",
    "print(corr_with[corr_with>0].head(25),\"\\n-------------------------\")\n",
    "print(corr_with[corr_with<0].tail(20))"
   ]
  },
  {
   "cell_type": "markdown",
   "id": "c9679171",
   "metadata": {},
   "source": [
    "## 4.3 Decide Which Features is best to use"
   ]
  },
  {
   "cell_type": "code",
   "execution_count": 1411,
   "id": "77a20287",
   "metadata": {},
   "outputs": [
    {
     "data": {
      "text/plain": [
       "<AxesSubplot:>"
      ]
     },
     "execution_count": 1411,
     "metadata": {},
     "output_type": "execute_result"
    },
    {
     "data": {
      "image/png": "[encoded data removed]",
      "text/plain": [
       "<Figure size 1080x576 with 2 Axes>"
      ]
     },
     "metadata": {},
     "output_type": "display_data"
    }
   ],
   "source": [
    "list_of_columns =[\"OverallQual\",\"GrLivArea\",\"GarageCars\",\"GarageArea\",\"TotalBsmtSF\",\n",
    "                  \"1stFlrSF\",\"FullBath\",\"TotRmsAbvGrd\",\"YearBuilt\",\"YearRemodAdd\",\n",
    "                  \"MasVnrArea\",\"GarageYrBlt\",\"Fireplaces\",\"BsmtFinSF1\",\"Foundation\",\n",
    "                  \"LotFrontage\",\"WoodDeckSF\",\"2ndFlrSF\",\"OpenPorchSF\",\"HalfBath\",\n",
    "                  \"ExterQual\",\"BsmtQual\",\"KitchenQual\",\"GarageFinish\",\"GarageType\",\"HeatingQC\"]\n",
    "\n",
    "\n",
    "X = train_data[list_of_columns]\n",
    "y = train_data.SalePrice\n",
    "corr = X.corr()\n",
    "sns.set(rc = {'figure.figsize':(15,8)})\n",
    "\n",
    "\n",
    "sns.heatmap(corr,mask=corr > 0.8,cmap=\"YlGnBu\")"
   ]
  },
  {
   "cell_type": "markdown",
   "id": "c86c6c55",
   "metadata": {},
   "source": [
    "## Seeing this heat map we can remove the features with very high correlations between each other so we have unique features\n",
    "\n",
    "### we need ro remove one of \"GarageArea\" or \"GarageCars\"\n",
    "### we need ro remove one of ,\"TotalBsmtSF\",\"1stFlrSF\" ..."
   ]
  },
  {
   "cell_type": "markdown",
   "id": "c7dde575",
   "metadata": {},
   "source": [
    "## 4.4 - Selected Features Display"
   ]
  },
  {
   "cell_type": "code",
   "execution_count": 1412,
   "id": "2aed0015",
   "metadata": {},
   "outputs": [
    {
     "data": {
      "text/plain": [
       "<AxesSubplot:>"
      ]
     },
     "execution_count": 1412,
     "metadata": {},
     "output_type": "execute_result"
    },
    {
     "data": {
      "image/png": "[encoded data removed]",
      "text/plain": [
       "<Figure size 1080x576 with 2 Axes>"
      ]
     },
     "metadata": {},
     "output_type": "display_data"
    }
   ],
   "source": [
    "list_of_columns =[\"OverallQual\",\"GrLivArea\",\"GarageCars\",\"TotalBsmtSF\",\"1stFlrSF\",\n",
    "                  \"FullBath\",\"YearBuilt\",\"YearRemodAdd\",\"BsmtFinSF1\",\"Foundation\",\n",
    "                  \"LotFrontage\",\"WoodDeckSF\",\"MasVnrArea\",\"Fireplaces\",\n",
    "                  \"ExterQual\",\"BsmtQual\",\"KitchenQual\",\"GarageFinish\",\"GarageType\",\"HeatingQC\"]\n",
    "\n",
    "\n",
    "X = train_data[list_of_columns]\n",
    "y = train_data.SalePrice\n",
    "corr = X.corr()\n",
    "sns.heatmap(corr,mask=corr > 0.85,cmap=\"YlGnBu\")"
   ]
  },
  {
   "cell_type": "markdown",
   "id": "c9c6e076",
   "metadata": {},
   "source": [
    "## 5 -  Scale ( Standarize ) &  split data into Train | Validation "
   ]
  },
  {
   "cell_type": "code",
   "execution_count": 1413,
   "id": "65f92a04",
   "metadata": {},
   "outputs": [
    {
     "name": "stdout",
     "output_type": "stream",
     "text": [
      "train: 1314 validation: 146\n"
     ]
    }
   ],
   "source": [
    "scalar =preprocessing.StandardScaler()\n",
    "X_scaled=pd.DataFrame(scalar.fit_transform(X),columns = X.columns)\n",
    "\n",
    "X_train, X_val, y_train, y_val = train_test_split(X_scaled, y,\n",
    "                                                  test_size=0.1,\n",
    "                                                 random_state = 42)\n",
    "print('train:', len(X_train), 'validation:', len(X_val))"
   ]
  },
  {
   "cell_type": "markdown",
   "id": "c511f448",
   "metadata": {},
   "source": [
    "## 6.1 - Apply Linear Regression on Training Set"
   ]
  },
  {
   "cell_type": "code",
   "execution_count": 1437,
   "id": "4f591b17",
   "metadata": {},
   "outputs": [
    {
     "name": "stdout",
     "output_type": "stream",
     "text": [
      "Root-Mean-Squared-Error : 0.169\n"
     ]
    }
   ],
   "source": [
    "def compute_rmsle(y_test: np.ndarray, y_pred: np.ndarray, precision: int = 2) -> float:\n",
    "    rmsle = np.sqrt(metrics.mean_squared_log_error(y_test, y_pred))\n",
    "    return round(rmsle, precision)\n",
    "\n",
    "model = LinearRegression()\n",
    "model.fit(X_train, y_train)\n",
    "\n",
    "y_pred=model.predict(X_train)\n",
    "\n",
    "y= y_train.ravel()\n",
    "\n",
    "y_pred=y_pred.ravel()\n",
    "y_pred =abs(y_pred)\n",
    "y_pred\n",
    "\n",
    "print(\"Root-Mean-Squared-Error :\",compute_rmsle(y,y_pred,4))\n"
   ]
  },
  {
   "cell_type": "markdown",
   "id": "3585e75d",
   "metadata": {},
   "source": [
    "## 6.2 - Apply Linear Regression coefficients on Validation Set"
   ]
  },
  {
   "cell_type": "code",
   "execution_count": 1436,
   "id": "50b7dcbe",
   "metadata": {},
   "outputs": [
    {
     "name": "stdout",
     "output_type": "stream",
     "text": [
      "Root-Mean-Squared-Error : 0.1701\n"
     ]
    }
   ],
   "source": [
    "y_pred=model.predict(X_val)\n",
    "y= y_val.ravel()\n",
    "y_pred=y_pred.ravel()\n",
    "y_pred =abs(y_pred)\n",
    "\n",
    "print(\"Root-Mean-Squared-Error :\",compute_rmsle(y,y_pred,4))\n"
   ]
  },
  {
   "cell_type": "markdown",
   "id": "e939e604",
   "metadata": {},
   "source": [
    "## 6.3 - Apply Linear Regression coefficients on Testing Set and produce Submision"
   ]
  },
  {
   "cell_type": "code",
   "execution_count": 1416,
   "id": "45a604c8",
   "metadata": {},
   "outputs": [],
   "source": [
    "\n",
    "X_test = test_data[list_of_columns]\n",
    "X_test_scaled=pd.DataFrame(scalar.fit_transform(X_test),columns = X_test.columns)\n",
    "\n",
    "X_test_scaled[\"y_pred\"]=model.predict(X_test_scaled)\n",
    "X_test_scaled[\"Id\"]=test_data[\"Id\"]\n",
    "X_test_scaled[\"y_pred\"]=abs(X_test_scaled[\"y_pred\"])"
   ]
  },
  {
   "cell_type": "code",
   "execution_count": 1417,
   "id": "302909d4",
   "metadata": {},
   "outputs": [],
   "source": [
    "Output = pd.DataFrame()\n",
    "Output['Id'] = X_test_scaled['Id']\n",
    "Output['SalePrice'] = X_test_scaled['y_pred']\n",
    "Output.to_csv('/Users/ibrahim/Desktop/AIS/submission.txt', index=False)"
   ]
  },
  {
   "cell_type": "markdown",
   "id": "541ede84",
   "metadata": {},
   "source": [
    "## 7.1 - Apply Random Forest Regression coefficients on Trainign Set"
   ]
  },
  {
   "cell_type": "code",
   "execution_count": 1465,
   "id": "7234a833",
   "metadata": {},
   "outputs": [
    {
     "name": "stdout",
     "output_type": "stream",
     "text": [
      "Root-Mean-Squared-Error : 0.0629\n"
     ]
    }
   ],
   "source": [
    "regr = RandomForestRegressor(n_estimators=1000,max_depth=40, random_state=42,criterion=\"squared_error\")\n",
    "regr.fit(X_train, y_train)\n",
    "y_pred=regr.predict(X_train)\n",
    "y= y_train.ravel()\n",
    "\n",
    "y_pred=y_pred.ravel()\n",
    "y_pred =abs(y_pred)\n",
    "y_pred\n",
    "\n",
    "print(\"Root-Mean-Squared-Error :\",compute_rmsle(y,y_pred,4))"
   ]
  },
  {
   "cell_type": "markdown",
   "id": "4caa9a73",
   "metadata": {},
   "source": [
    "## 7.2 - Apply Random Forest Regression coefficients on Validation Set"
   ]
  },
  {
   "cell_type": "code",
   "execution_count": 1466,
   "id": "5fffc803",
   "metadata": {},
   "outputs": [
    {
     "name": "stdout",
     "output_type": "stream",
     "text": [
      "Root-Mean-Squared-Error : 0.1393\n"
     ]
    }
   ],
   "source": [
    "y_pred=regr.predict(X_val)\n",
    "y= y_val.ravel()\n",
    "y_pred=y_pred.ravel()\n",
    "y_pred =abs(y_pred)\n",
    "\n",
    "print(\"Root-Mean-Squared-Error :\",compute_rmsle(y,y_pred,4))"
   ]
  },
  {
   "cell_type": "markdown",
   "id": "31cac445",
   "metadata": {},
   "source": [
    "## 7.3 - Apply Random Forest Regressionon  on Testing Set and produce Submision"
   ]
  },
  {
   "cell_type": "code",
   "execution_count": 1467,
   "id": "ebf9883e",
   "metadata": {},
   "outputs": [],
   "source": [
    "X_test = test_data[list_of_columns]\n",
    "X_test_scaled=pd.DataFrame(scalar.fit_transform(X_test),columns = X_test.columns)\n",
    "\n",
    "X_test_scaled[\"y_pred\"]=regr.predict(X_test_scaled)\n",
    "X_test_scaled[\"Id\"]=test_data[\"Id\"]\n",
    "X_test_scaled[\"y_pred\"]=abs(X_test_scaled[\"y_pred\"])"
   ]
  },
  {
   "cell_type": "code",
   "execution_count": 1468,
   "id": "67406443",
   "metadata": {},
   "outputs": [],
   "source": [
    "Output = pd.DataFrame()\n",
    "Output['Id'] = X_test_scaled['Id']\n",
    "Output['SalePrice'] = X_test_scaled['y_pred']\n",
    "Output.to_csv('/Users/ibrahim/Desktop/AIS/submission_1.txt', index=False)"
   ]
  },
  {
   "cell_type": "code",
   "execution_count": null,
   "id": "2620a335",
   "metadata": {},
   "outputs": [],
   "source": []
  }
 ],
 "metadata": {
  "kernelspec": {
   "display_name": "Python 3 (ipykernel)",
   "language": "python",
   "name": "python3"
  },
  "language_info": {
   "codemirror_mode": {
    "name": "ipython",
    "version": 3
   },
   "file_extension": ".py",
   "mimetype": "text/x-python",
   "name": "python",
   "nbconvert_exporter": "python",
   "pygments_lexer": "ipython3",
   "version": "3.9.10"
  }
 },
 "nbformat": 4,
 "nbformat_minor": 5
}
