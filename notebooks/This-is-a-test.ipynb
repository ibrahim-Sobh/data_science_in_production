{
 "cells": [
  {
   "cell_type": "markdown",
   "id": "53e19588",
   "metadata": {},
   "source": [
    "## This is a Test"
   ]
  },
  {
   "cell_type": "code",
   "execution_count": 1,
   "id": "999fbac7",
   "metadata": {
    "scrolled": true
   },
   "outputs": [
    {
     "data": {
      "text/plain": [
       "array([[8, 2, 4],\n",
       "       [2, 6, 1],\n",
       "       [9, 6, 3],\n",
       "       [9, 8, 5],\n",
       "       [6, 7, 6],\n",
       "       [9, 7, 7],\n",
       "       [8, 4, 9],\n",
       "       [4, 7, 9],\n",
       "       [7, 5, 1],\n",
       "       [7, 3, 6]])"
      ]
     },
     "execution_count": 1,
     "metadata": {},
     "output_type": "execute_result"
    }
   ],
   "source": [
    "import numpy as np\n",
    "\n",
    "array = np.random.randint(1,10, size=(10,3))\n",
    "print(array)"
   ]
  },
  {
   "cell_type": "code",
   "execution_count": null,
   "id": "dc02c45d",
   "metadata": {},
   "outputs": [],
   "source": []
  }
 ],
 "metadata": {
  "kernelspec": {
   "display_name": "Python 3 (ipykernel)",
   "language": "python",
   "name": "python3"
  },
  "language_info": {
   "codemirror_mode": {
    "name": "ipython",
    "version": 3
   },
   "file_extension": ".py",
   "mimetype": "text/x-python",
   "name": "python",
   "nbconvert_exporter": "python",
   "pygments_lexer": "ipython3",
   "version": "3.9.7"
  }
 },
 "nbformat": 4,
 "nbformat_minor": 5
}
