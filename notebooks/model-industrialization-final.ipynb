{
 "cells": [
  {
   "cell_type": "markdown",
   "id": "40e2375d",
   "metadata": {},
   "source": [
    "## Author : Ibrahim Sobh\n",
    "### Kaggle House Prices - Advanced Regression Technique.\n",
    "- Predict sales prices and practice feature engineering, RFs, and gradient boosting"
   ]
  },
  {
   "cell_type": "markdown",
   "id": "e6b6f92b",
   "metadata": {},
   "source": [
    "## Model building"
   ]
  },
  {
   "cell_type": "code",
   "execution_count": 18,
   "id": "1fe5d7d5",
   "metadata": {},
   "outputs": [
    {
     "name": "stdout",
     "output_type": "stream",
     "text": [
      "The autoreload extension is already loaded. To reload it, use:\n",
      "  %reload_ext autoreload\n"
     ]
    }
   ],
   "source": [
    "%load_ext autoreload\n",
    "%autoreload 2\n",
    "import sys\n",
    "if not \"..\" in sys.path:\n",
    "    sys.path.append('..')"
   ]
  },
  {
   "cell_type": "code",
   "execution_count": 1,
   "id": "b5af68cf",
   "metadata": {},
   "outputs": [
    {
     "name": "stdout",
     "output_type": "stream",
     "text": [
      "{'Validation_rmse': 0.163, 'Test_rmse': 0.186}\n"
     ]
    }
   ],
   "source": [
    "import pandas as pd\n",
    "from house_prices.train import build_model\n",
    "\n",
    "training_data_df = pd.read_csv('../data/house-prices-advanced-regression-techniques/train.csv')\n",
    "model_performance_dict = build_model(training_data_df)\n",
    "print(model_performance_dict)"
   ]
  },
  {
   "cell_type": "markdown",
   "id": "d1743b45",
   "metadata": {},
   "source": [
    "# Model inference"
   ]
  },
  {
   "cell_type": "code",
   "execution_count": 5,
   "id": "13a3cec0",
   "metadata": {},
   "outputs": [
    {
     "data": {
      "text/plain": [
       "array([101484.43003764, 157864.03395506, 180538.79709244, ...,\n",
       "       160823.63999707, 103964.05876926, 236273.53828862])"
      ]
     },
     "execution_count": 5,
     "metadata": {},
     "output_type": "execute_result"
    }
   ],
   "source": [
    "import pandas as pd\n",
    "from house_prices.inference import make_predictions\n",
    "\n",
    "user_data_df = pd.read_csv('../data/house-prices-advanced-regression-techniques/test.csv')\n",
    "predictions = make_predictions(user_data_df)\n",
    "predictions"
   ]
  },
  {
   "cell_type": "markdown",
   "id": "374dff59",
   "metadata": {},
   "source": [
    "# Using  < House-prices > Package"
   ]
  },
  {
   "cell_type": "markdown",
   "id": "d64fbd5b",
   "metadata": {},
   "source": [
    "## Model building"
   ]
  },
  {
   "cell_type": "code",
   "execution_count": 7,
   "id": "1c1f9596",
   "metadata": {
    "scrolled": true
   },
   "outputs": [
    {
     "name": "stdout",
     "output_type": "stream",
     "text": [
      "{'Validation_rmse': 0.163, 'Test_rmse': 0.186}\n"
     ]
    }
   ],
   "source": [
    "import house_prices as hc\n",
    "\n",
    "print(hc.build_model(training_data_df))"
   ]
  },
  {
   "cell_type": "markdown",
   "id": "e536a2d5",
   "metadata": {},
   "source": [
    "## Model inference"
   ]
  },
  {
   "cell_type": "code",
   "execution_count": 8,
   "id": "0a2180a5",
   "metadata": {},
   "outputs": [
    {
     "data": {
      "text/plain": [
       "array([101484.43003764, 157864.03395506, 180538.79709244, ...,\n",
       "       160823.63999707, 103964.05876926, 236273.53828862])"
      ]
     },
     "execution_count": 8,
     "metadata": {},
     "output_type": "execute_result"
    }
   ],
   "source": [
    "import house_prices as hc\n",
    "user_data_df\n",
    "predictions = hc.make_predictions(user_data_df)\n",
    "predictions "
   ]
  }
 ],
 "metadata": {
  "interpreter": {
   "hash": "4373f270b90ecccfda4fe2a21b65b360181de506de5f9021897b2095593032c4"
  },
  "kernelspec": {
   "display_name": "Python 3.9.0",
   "language": "python",
   "name": "python3"
  },
  "language_info": {
   "codemirror_mode": {
    "name": "ipython",
    "version": 3
   },
   "file_extension": ".py",
   "mimetype": "text/x-python",
   "name": "python",
   "nbconvert_exporter": "python",
   "pygments_lexer": "ipython3",
   "version": "3.9.10"
  }
 },
 "nbformat": 4,
 "nbformat_minor": 5
}
